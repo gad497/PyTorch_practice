{
 "cells": [
  {
   "cell_type": "code",
   "execution_count": 1,
   "id": "de28f300-043e-4fd4-b302-347acd5215b5",
   "metadata": {},
   "outputs": [
    {
     "name": "stdout",
     "output_type": "stream",
     "text": [
      "2.6.0+cu126\n"
     ]
    }
   ],
   "source": [
    "import torch\n",
    "print(torch.__version__)"
   ]
  },
  {
   "cell_type": "code",
   "execution_count": 2,
   "id": "b902e4cd-217a-4a4d-b7ff-ceb5e8f2fdf2",
   "metadata": {},
   "outputs": [],
   "source": [
    "import pandas as pd\n",
    "import numpy as np\n",
    "import matplotlib.pyplot as plt"
   ]
  },
  {
   "cell_type": "code",
   "execution_count": 3,
   "id": "5a9598c2-7cc7-41f9-9dae-748341614ff7",
   "metadata": {},
   "outputs": [],
   "source": [
    "df = pd.read_csv(\"data/Kannada_MNIST/train.csv\")\n",
    "# test_df = pd.read_csv(\"data/Kannada_MNIST/Dig-MNIST.csv\")\n",
    "# test_df = pd.read_csv(\"data/Kannada_MNIST/test.csv\")"
   ]
  },
  {
   "cell_type": "code",
   "execution_count": 4,
   "id": "e67d6304-ce7d-455e-b06c-da0b149e6f4f",
   "metadata": {
    "scrolled": true
   },
   "outputs": [],
   "source": [
    "# y_train = torch.tensor(train_df.iloc[:,0])\n",
    "# x_train = torch.tensor(np.array([i.reshape(28,28) for i in np.array(train_df.iloc[:,1:])]), dtype=torch.float32)"
   ]
  },
  {
   "cell_type": "code",
   "execution_count": 5,
   "id": "144c4ad6-f6c4-422d-b418-ee2eb3cf0937",
   "metadata": {},
   "outputs": [],
   "source": [
    "from sklearn.model_selection import train_test_split\n",
    "\n",
    "x_train_df, x_test_df, y_train_df, y_test_df = train_test_split(df.iloc[:,1:], df.iloc[:,0], test_size=0.1)\n",
    "\n",
    "x_train = torch.tensor(np.array([i.reshape(28,28) for i in np.array(x_train_df)]), dtype=torch.float32)\n",
    "y_train = torch.tensor(np.array(y_train_df))\n",
    "\n",
    "x_test = torch.tensor(np.array([i.reshape(28,28) for i in np.array(x_test_df)]), dtype=torch.float32)\n",
    "y_test = torch.tensor(np.array(y_test_df))"
   ]
  },
  {
   "cell_type": "code",
   "execution_count": 6,
   "id": "6621dcf1-b92b-4fca-9eb5-6f77967545e2",
   "metadata": {},
   "outputs": [
    {
     "name": "stdout",
     "output_type": "stream",
     "text": [
      "torch.Size([54000, 28, 28]) torch.Size([54000])\n",
      "torch.Size([6000, 28, 28]) torch.Size([6000])\n"
     ]
    }
   ],
   "source": [
    "print(x_train.shape,y_train.shape)\n",
    "print(x_test.shape, y_test.shape)"
   ]
  },
  {
   "cell_type": "code",
   "execution_count": 7,
   "id": "729956dd-14a4-466c-b51a-d1b18438708c",
   "metadata": {},
   "outputs": [
    {
     "data": {
      "text/plain": [
       "Text(0.5, 1.0, 'tensor(6)')"
      ]
     },
     "execution_count": 7,
     "metadata": {},
     "output_type": "execute_result"
    },
    {
     "data": {
      "image/png": "[encoded data removed]",
      "text/plain": [
       "<Figure size 640x480 with 1 Axes>"
      ]
     },
     "metadata": {},
     "output_type": "display_data"
    }
   ],
   "source": [
    "rand_int = np.random.randint(0,60000)\n",
    "plt.imshow(x_train[rand_int],cmap='gray')\n",
    "plt.title(y_train[rand_int])"
   ]
  },
  {
   "cell_type": "code",
   "execution_count": 8,
   "id": "9ffa43a2-87fe-4a58-81bb-c7b685593afc",
   "metadata": {},
   "outputs": [],
   "source": [
    "# y_test = torch.tensor(test_df.iloc[:,0])\n",
    "# x_test = torch.tensor([i.reshape(28,28) for i in np.array(test_df.iloc[:,1:])], dtype=torch.float32)"
   ]
  },
  {
   "cell_type": "code",
   "execution_count": 9,
   "id": "c0a1493f-adc1-4243-8f18-89c81a3bf2e4",
   "metadata": {},
   "outputs": [],
   "source": [
    "from torch.utils.data import TensorDataset, DataLoader\n",
    "from torchvision import transforms"
   ]
  },
  {
   "cell_type": "code",
   "execution_count": 10,
   "id": "43cff354-217a-4aee-b8c6-897af3ddfa75",
   "metadata": {},
   "outputs": [],
   "source": [
    "train_dataset = TensorDataset(x_train,y_train)\n",
    "test_dataset = TensorDataset(x_test,y_test)"
   ]
  },
  {
   "cell_type": "code",
   "execution_count": 11,
   "id": "eecebe0f-fc6f-4d67-aa8f-2913ad47163e",
   "metadata": {},
   "outputs": [],
   "source": [
    "train_dataloader = DataLoader(\n",
    "    dataset=train_dataset,\n",
    "    batch_size=32,\n",
    "    shuffle=True)\n",
    "test_dataloader = DataLoader(\n",
    "    dataset=test_dataset,\n",
    "    batch_size=32,\n",
    "    shuffle=False)"
   ]
  },
  {
   "cell_type": "code",
   "execution_count": 12,
   "id": "9bc78f79-f2d6-4dbd-8ffe-044098be3f06",
   "metadata": {},
   "outputs": [],
   "source": [
    "from torch import nn\n",
    "class Model1(nn.Module):\n",
    "    def __init__(self, in_shape: int, hidden_units: int, out_shape: int) -> nn.Module:\n",
    "        super().__init__()\n",
    "        self.layer1 = nn.Sequential(\n",
    "            nn.Flatten(),\n",
    "            nn.Linear(in_features=in_shape, out_features=hidden_units),\n",
    "            nn.Linear(in_features=hidden_units,out_features=hidden_units),\n",
    "            nn.Linear(in_features=hidden_units,out_features=out_shape)\n",
    "        )\n",
    "\n",
    "    def forward(self,x):\n",
    "        return self.layer1(x)"
   ]
  },
  {
   "cell_type": "code",
   "execution_count": 13,
   "id": "54c517ee-847f-46cf-9c24-7630fa2a725c",
   "metadata": {},
   "outputs": [],
   "source": [
    "model1 = Model1(28*28,32,10)"
   ]
  },
  {
   "cell_type": "code",
   "execution_count": 14,
   "id": "9bdf1b54-9495-42d9-8d27-bc9e6e0c48fb",
   "metadata": {},
   "outputs": [],
   "source": [
    "def random_predictions():\n",
    "    fig = plt.figure(figsize=(10,10))\n",
    "    rows, cols = 3,3\n",
    "    for i in range(1,rows*cols+1):\n",
    "        rand_int = torch.randint(0,len(test_dataset),size=[1]).item()\n",
    "        rand_img, rand_lbl = test_dataset[rand_int]\n",
    "        y_pred = model1(rand_img.unsqueeze(0))\n",
    "        pred_class = y_pred.argmax(dim=1)\n",
    "        fig.add_subplot(rows,cols,i)\n",
    "        plt.imshow(rand_img,cmap=\"gray\")\n",
    "        plt.title(f\"Pred: {pred_class.item()}, Actual: {rand_lbl}\")\n",
    "        plt.axis(False)"
   ]
  },
  {
   "cell_type": "code",
   "execution_count": 15,
   "id": "841a196e-4f88-43ea-b451-9acfbf48fa72",
   "metadata": {},
   "outputs": [
    {
     "data": {
      "image/png": "[encoded data removed]",
      "text/plain": [
       "<Figure size 1000x1000 with 9 Axes>"
      ]
     },
     "metadata": {},
     "output_type": "display_data"
    }
   ],
   "source": [
    "random_predictions()"
   ]
  },
  {
   "cell_type": "code",
   "execution_count": 16,
   "id": "7a549922-a54a-4be5-bc74-bcb7ab6a2e50",
   "metadata": {},
   "outputs": [],
   "source": [
    "def train_test_loop(model: nn.Module,\n",
    "                    train_dataloader: torch.utils.data.DataLoader,\n",
    "                    test_dataloader: torch.utils.data.DataLoader,\n",
    "                   epochs: int,\n",
    "                   loss_fn: nn.Module,\n",
    "                   optimizer: torch.optim.Optimizer):\n",
    "    for epoch in range(epochs):\n",
    "        model.train()\n",
    "        train_loss = 0\n",
    "        train_acc = 0\n",
    "        for batch,(X,y) in enumerate(train_dataloader):\n",
    "            y_pred = model(X)\n",
    "            loss = loss_fn(y_pred,y)\n",
    "            y_out = torch.argmax(y_pred, dim=1)\n",
    "            train_acc += (torch.eq(y, y_out).sum().item())/len(y_out)\n",
    "            train_loss += loss\n",
    "            optimizer.zero_grad()\n",
    "            loss.backward()\n",
    "            optimizer.step()\n",
    "        train_loss /= len(train_dataloader)\n",
    "        train_acc /= len(train_dataloader)\n",
    "        model.eval()\n",
    "        test_loss = 0\n",
    "        test_acc = 0\n",
    "        with torch.inference_mode():\n",
    "            for batch,(X,y) in enumerate(test_dataloader):\n",
    "                y_pred = model(X)\n",
    "                loss = loss_fn(y_pred,y)\n",
    "                y_out = torch.argmax(y_pred, dim=1)\n",
    "                test_acc += (torch.eq(y, y_out).sum().item())/len(y_out)\n",
    "                test_loss += loss\n",
    "            test_loss /= len(test_dataloader)\n",
    "            test_acc /= len(test_dataloader)\n",
    "        print(f\"Epoch: {epoch+1}\\nTrain loss: {train_loss}, Train accuracy: {train_acc*100:.2f} | Test loss: {test_loss}, Test accuracy: {test_acc*100:.2f}\")"
   ]
  },
  {
   "cell_type": "code",
   "execution_count": 17,
   "id": "ee0a18a8-e35e-4c7e-b703-8851ed2360ba",
   "metadata": {},
   "outputs": [],
   "source": [
    "loss_fn = nn.CrossEntropyLoss()\n",
    "optimizer = torch.optim.Adam(params=model1.parameters(),lr=0.001)"
   ]
  },
  {
   "cell_type": "code",
   "execution_count": 18,
   "id": "c6c4f590-f53e-435c-b209-eee85bca5287",
   "metadata": {},
   "outputs": [
    {
     "name": "stdout",
     "output_type": "stream",
     "text": [
      "Epoch: 1\n",
      "Train loss: 0.4266882836818695, Train accuracy: 92.77 | Test loss: 0.26616933941841125, Test accuracy: 94.32\n",
      "Epoch: 2\n",
      "Train loss: 0.21464167535305023, Train accuracy: 94.55 | Test loss: 0.26282110810279846, Test accuracy: 93.85\n",
      "Epoch: 3\n",
      "Train loss: 0.19237716495990753, Train accuracy: 94.94 | Test loss: 0.17971225082874298, Test accuracy: 95.01\n",
      "Epoch: 4\n",
      "Train loss: 0.16977053880691528, Train accuracy: 95.22 | Test loss: 0.24599865078926086, Test accuracy: 93.42\n",
      "Epoch: 5\n",
      "Train loss: 0.1631273776292801, Train accuracy: 95.45 | Test loss: 0.21685084700584412, Test accuracy: 94.32\n",
      "Epoch: 6\n",
      "Train loss: 0.15549752116203308, Train accuracy: 95.54 | Test loss: 0.1893787831068039, Test accuracy: 94.83\n",
      "Epoch: 7\n",
      "Train loss: 0.1500742882490158, Train accuracy: 95.61 | Test loss: 0.19641496241092682, Test accuracy: 94.30\n",
      "Epoch: 8\n",
      "Train loss: 0.14388340711593628, Train accuracy: 95.83 | Test loss: 0.1957317292690277, Test accuracy: 94.96\n",
      "Epoch: 9\n",
      "Train loss: 0.13660450279712677, Train accuracy: 96.06 | Test loss: 0.15760013461112976, Test accuracy: 95.94\n",
      "Epoch: 10\n",
      "Train loss: 0.13168972730636597, Train accuracy: 96.07 | Test loss: 0.15375444293022156, Test accuracy: 95.63\n"
     ]
    }
   ],
   "source": [
    "train_test_loop(\n",
    "    model1,\n",
    "    train_dataloader,\n",
    "    test_dataloader,\n",
    "    10,\n",
    "    loss_fn,\n",
    "    optimizer\n",
    ")"
   ]
  },
  {
   "cell_type": "code",
   "execution_count": 19,
   "id": "49546609-90ce-4517-be11-9150ecde3ddd",
   "metadata": {},
   "outputs": [
    {
     "data": {
      "image/png": "[encoded data removed]",
      "text/plain": [
       "<Figure size 1000x1000 with 9 Axes>"
      ]
     },
     "metadata": {},
     "output_type": "display_data"
    }
   ],
   "source": [
    "random_predictions()"
   ]
  },
  {
   "cell_type": "code",
   "execution_count": null,
   "id": "a7b3dce9-8326-4155-927d-79fb7835d041",
   "metadata": {},
   "outputs": [],
   "source": []
  }
 ],
 "metadata": {
  "kernelspec": {
   "display_name": "Python 3 (ipykernel)",
   "language": "python",
   "name": "python3"
  },
  "language_info": {
   "codemirror_mode": {
    "name": "ipython",
    "version": 3
   },
   "file_extension": ".py",
   "mimetype": "text/x-python",
   "name": "python",
   "nbconvert_exporter": "python",
   "pygments_lexer": "ipython3",
   "version": "3.12.9"
  }
 },
 "nbformat": 4,
 "nbformat_minor": 5
}
