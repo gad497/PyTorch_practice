{
 "cells": [
  {
   "cell_type": "code",
   "execution_count": 40,
   "id": "1866ad62-f96e-4939-b5ca-16c2e16aeff0",
   "metadata": {},
   "outputs": [],
   "source": [
    "import torch\n",
    "from torch import nn\n",
    "from torch.utils.data import DataLoader\n",
    "import torchvision\n",
    "from torchvision.transforms.v2 import PILToTensor\n",
    "from pathlib import Path\n",
    "import matplotlib.pyplot as plt\n",
    "import os"
   ]
  },
  {
   "cell_type": "code",
   "execution_count": 44,
   "id": "6b255291-4744-4aae-9c74-0702efefcb3f",
   "metadata": {},
   "outputs": [
    {
     "name": "stdout",
     "output_type": "stream",
     "text": [
      "Files already downloaded and verified\n",
      "Files already downloaded and verified\n",
      "Dataset CIFAR10\n",
      "    Number of datapoints: 50000\n",
      "    Root location: data\\CIFAR10\n",
      "    Split: Train\n",
      "    StandardTransform\n",
      "Transform: Compose(\n",
      "               PILToTensor()\n",
      "           ) Dataset CIFAR10\n",
      "    Number of datapoints: 10000\n",
      "    Root location: data\\CIFAR10\n",
      "    Split: Test\n",
      "    StandardTransform\n",
      "Transform: Compose(\n",
      "               PILToTensor()\n",
      "           )\n"
     ]
    }
   ],
   "source": [
    "data_path = Path(\"data\")\n",
    "image_path = data_path / \"CIFAR10\"\n",
    "image_transform = torchvision.transforms.Compose([PILToTensor()])\n",
    "train_data = torchvision.datasets.CIFAR10(root=image_path,\n",
    "                                         train=True,\n",
    "                                         download=True,\n",
    "                                         transform=image_transform)\n",
    "test_data = torchvision.datasets.CIFAR10(root=image_path,\n",
    "                                         train=False,\n",
    "                                         download=True,\n",
    "                                        transform=image_transform)\n",
    "print(train_data, test_data)"
   ]
  },
  {
   "cell_type": "code",
   "execution_count": 46,
   "id": "d6d95809-15c4-4248-8475-fb911af876f8",
   "metadata": {},
   "outputs": [
    {
     "name": "stdout",
     "output_type": "stream",
     "text": [
      "<torch.utils.data.dataloader.DataLoader object at 0x0000029000DC3700> <torch.utils.data.dataloader.DataLoader object at 0x0000029000DC3820>\n",
      "Train dataloader lenght: 1563\n",
      "Test dataloader lenght: 313\n"
     ]
    }
   ],
   "source": [
    "BATCH_SIZE = 32\n",
    "NUM_WORKERS = os.cpu_count()\n",
    "\n",
    "train_dataloader = DataLoader(dataset=train_data,\n",
    "                              batch_size=BATCH_SIZE,\n",
    "                              shuffle=True,\n",
    "                              num_workers=NUM_WORKERS)\n",
    "test_dataloader = DataLoader(dataset=test_data,\n",
    "                             batch_size=BATCH_SIZE,\n",
    "                             shuffle=False,\n",
    "                             num_workers=NUM_WORKERS)\n",
    "print(train_dataloader, test_dataloader)\n",
    "print(f\"Train dataloader lenght: {len(train_dataloader)}\\nTest dataloader lenght: {len(test_dataloader)}\")"
   ]
  },
  {
   "cell_type": "code",
   "execution_count": 48,
   "id": "6478c775-ef3c-44eb-af19-32bc40bfe4e6",
   "metadata": {},
   "outputs": [
    {
     "data": {
      "text/plain": [
       "torch.Size([32, 3, 32, 32])"
      ]
     },
     "execution_count": 48,
     "metadata": {},
     "output_type": "execute_result"
    }
   ],
   "source": [
    "image_batch, label_batch = next(iter(train_dataloader))\n",
    "image_batch.shape"
   ]
  },
  {
   "cell_type": "code",
   "execution_count": null,
   "id": "e0335fe5-1953-43f3-927c-1f5d9da78448",
   "metadata": {},
   "outputs": [],
   "source": []
  }
 ],
 "metadata": {
  "kernelspec": {
   "display_name": "python pytorch",
   "language": "python",
   "name": "venv_pytorch"
  },
  "language_info": {
   "codemirror_mode": {
    "name": "ipython",
    "version": 3
   },
   "file_extension": ".py",
   "mimetype": "text/x-python",
   "name": "python",
   "nbconvert_exporter": "python",
   "pygments_lexer": "ipython3",
   "version": "3.10.7"
  }
 },
 "nbformat": 4,
 "nbformat_minor": 5
}
